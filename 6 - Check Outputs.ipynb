{
 "cells": [
  {
   "cell_type": "markdown",
   "id": "d0670f1d-a612-4c45-b8e8-9be339e552d1",
   "metadata": {},
   "source": [
    "# L6: Check outputs"
   ]
  },
  {
   "cell_type": "markdown",
   "id": "d8adb9f4-f9ed-4c9f-8495-049c16548003",
   "metadata": {},
   "source": [
    "## Setup\n",
    "#### Load the API key and relevant Python libaries.\n",
    "In this course, we've provided some code that loads the OpenAI API key for you."
   ]
  },
  {
   "cell_type": "code",
   "execution_count": 1,
   "id": "6af3568d",
   "metadata": {
    "height": 115
   },
   "outputs": [],
   "source": ["import os\nfrom openai import OpenAI\n\nclient = OpenAI(api_key=os.environ['OPENAI_API_KEY'])\nfrom dotenv import load_dotenv, find_dotenv\n_ = load_dotenv(find_dotenv()) # read local .env file\n"]
  },
  {
   "cell_type": "code",
   "execution_count": 2,
   "id": "1a858d53",
   "metadata": {
    "height": 149
   },
   "outputs": [],
   "source": ["def get_completion_from_messages(messages, model=\"gpt-3.5-turbo\", temperature=0, max_tokens=500):\n    response = client.chat.completions.create(model=model,\n    messages=messages,\n    temperature=temperature, \n    max_tokens=max_tokens)\n    return response.choices[0].message.content"]
  },
  {
   "cell_type": "markdown",
   "id": "9f7d3db3-2258-48c9-819e-cfd8780416e3",
   "metadata": {},
   "source": [
    "### Check output for potentially harmful content"
   ]
  },
  {
   "cell_type": "code",
   "execution_count": 3,
   "id": "6164c53b",
   "metadata": {
    "height": 285
   },
   "outputs": [
    {
     "name": "stdout",
     "output_type": "stream",
     "text": [
      "{\n",
      "  \"categories\": {\n",
      "    \"hate\": false,\n",
      "    \"hate/threatening\": false,\n",
      "    \"self-harm\": false,\n",
      "    \"sexual\": false,\n",
      "    \"sexual/minors\": false,\n",
      "    \"violence\": false,\n",
      "    \"violence/graphic\": false\n",
      "  },\n",
      "  \"category_scores\": {\n",
      "    \"hate\": 4.3336598e-07,\n",
      "    \"hate/threatening\": 5.640859e-10,\n",
      "    \"self-harm\": 2.8951988e-10,\n",
      "    \"sexual\": 2.2455274e-06,\n",
      "    \"sexual/minors\": 1.2425416e-08,\n",
      "    \"violence\": 6.0600332e-06,\n",
      "    \"violence/graphic\": 4.518234e-07\n",
      "  },\n",
      "  \"flagged\": false\n",
      "}\n"
     ]
    }
   ],
   "source": ["final_response_to_customer = f\"\"\"\nThe SmartX ProPhone has a 6.1-inch display, 128GB storage, \\\n12MP dual camera, and 5G. The FotoSnap DSLR Camera \\\nhas a 24.2MP sensor, 1080p video, 3-inch LCD, and \\\ninterchangeable lenses. We have a variety of TVs, including \\\nthe CineView 4K TV with a 55-inch display, 4K resolution, \\\nHDR, and smart TV features. We also have the SoundMax \\\nHome Theater system with 5.1 channel, 1000W output, wireless \\\nsubwoofer, and Bluetooth. Do you have any specific questions \\\nabout these products or any other products we offer?\n\"\"\"\nresponse = client.moderations.create(input=final_response_to_customer)\nmoderation_output = response.results[0]\nprint(moderation_output)"]
  },
  {
   "cell_type": "markdown",
   "id": "3dde612c-383e-444a-96d6-51c4f42dfb51",
   "metadata": {},
   "source": [
    "### Check if output is factually based on the provided product information"
   ]
  },
  {
   "cell_type": "code",
   "execution_count": 4,
   "id": "ef6e394f",
   "metadata": {
    "height": 676
   },
   "outputs": [
    {
     "name": "stdout",
     "output_type": "stream",
     "text": [
      "Y\n"
     ]
    }
   ],
   "source": ["system_message = f\"\"\"\nYou are an assistant that evaluates whether \\\ncustomer service agent responses sufficiently \\\nanswer customer questions, and also validates that \\\nall the facts the assistant cites from the product \\\ninformation are correct.\nThe product information and user and customer \\\nservice agent messages will be delimited by \\\n3 backticks, i.e. ```.\nRespond with a Y or N character, with no punctuation:\nY - if the output sufficiently answers the question \\\nAND the response correctly uses product information\nN - otherwise\n\nOutput a single letter only.\n\"\"\"\ncustomer_message = f\"\"\"\ntell me about the smartx pro phone and \\\nthe fotosnap camera, the dslr one. \\\nAlso tell me about your tvs\"\"\"\nproduct_information = \"\"\"{ \"name\": \"SmartX ProPhone\", \"category\": \"Smartphones and Accessories\", \"brand\": \"SmartX\", \"model_number\": \"SX-PP10\", \"warranty\": \"1 year\", \"rating\": 4.6, \"features\": [ \"6.1-inch display\", \"128GB storage\", \"12MP dual camera\", \"5G\" ], \"description\": \"A powerful smartphone with advanced camera features.\", \"price\": 899.99 } { \"name\": \"FotoSnap DSLR Camera\", \"category\": \"Cameras and Camcorders\", \"brand\": \"FotoSnap\", \"model_number\": \"FS-DSLR200\", \"warranty\": \"1 year\", \"rating\": 4.7, \"features\": [ \"24.2MP sensor\", \"1080p video\", \"3-inch LCD\", \"Interchangeable lenses\" ], \"description\": \"Capture stunning photos and videos with this versatile DSLR camera.\", \"price\": 599.99 } { \"name\": \"CineView 4K TV\", \"category\": \"Televisions and Home Theater Systems\", \"brand\": \"CineView\", \"model_number\": \"CV-4K55\", \"warranty\": \"2 years\", \"rating\": 4.8, \"features\": [ \"55-inch display\", \"4K resolution\", \"HDR\", \"Smart TV\" ], \"description\": \"A stunning 4K TV with vibrant colors and smart features.\", \"price\": 599.99 } { \"name\": \"SoundMax Home Theater\", \"category\": \"Televisions and Home Theater Systems\", \"brand\": \"SoundMax\", \"model_number\": \"SM-HT100\", \"warranty\": \"1 year\", \"rating\": 4.4, \"features\": [ \"5.1 channel\", \"1000W output\", \"Wireless subwoofer\", \"Bluetooth\" ], \"description\": \"A powerful home theater system for an immersive audio experience.\", \"price\": 399.99 } { \"name\": \"CineView 8K TV\", \"category\": \"Televisions and Home Theater Systems\", \"brand\": \"CineView\", \"model_number\": \"CV-8K65\", \"warranty\": \"2 years\", \"rating\": 4.9, \"features\": [ \"65-inch display\", \"8K resolution\", \"HDR\", \"Smart TV\" ], \"description\": \"Experience the future of television with this stunning 8K TV.\", \"price\": 2999.99 } { \"name\": \"SoundMax Soundbar\", \"category\": \"Televisions and Home Theater Systems\", \"brand\": \"SoundMax\", \"model_number\": \"SM-SB50\", \"warranty\": \"1 year\", \"rating\": 4.3, \"features\": [ \"2.1 channel\", \"300W output\", \"Wireless subwoofer\", \"Bluetooth\" ], \"description\": \"Upgrade your TV's audio with this sleek and powerful soundbar.\", \"price\": 199.99 } { \"name\": \"CineView OLED TV\", \"category\": \"Televisions and Home Theater Systems\", \"brand\": \"CineView\", \"model_number\": \"CV-OLED55\", \"warranty\": \"2 years\", \"rating\": 4.7, \"features\": [ \"55-inch display\", \"4K resolution\", \"HDR\", \"Smart TV\" ], \"description\": \"Experience true blacks and vibrant colors with this OLED TV.\", \"price\": 1499.99 }\"\"\"\nq_a_pair = f\"\"\"\nCustomer message: ```{customer_message}```\nProduct information: ```{product_information}```\nAgent response: ```{final_response_to_customer}```\n\nDoes the response use the retrieved information correctly?\nDoes the response sufficiently answer the question\n\nOutput Y or N\n\"\"\"\nmessages = [\n    {'role': 'system', 'content': system_message},\n    {'role': 'user', 'content': q_a_pair}\n]\n\nresponse = get_completion_from_messages(messages, max_tokens=1)\nprint(response)"]
  },
  {
   "cell_type": "code",
   "execution_count": 5,
   "id": "6c33911c",
   "metadata": {
    "height": 319
   },
   "outputs": [
    {
     "name": "stdout",
     "output_type": "stream",
     "text": [
      "N\n"
     ]
    }
   ],
   "source": ["another_response = \"life is like a box of chocolates\"\nq_a_pair = f\"\"\"\nCustomer message: ```{customer_message}```\nProduct information: ```{product_information}```\nAgent response: ```{another_response}```\n\nDoes the response use the retrieved information correctly?\nDoes the response sufficiently answer the question?\n\nOutput Y or N\n\"\"\"\nmessages = [\n    {'role': 'system', 'content': system_message},\n    {'role': 'user', 'content': q_a_pair}\n]\n\nresponse = get_completion_from_messages(messages)\nprint(response)"]
  },
  {
   "cell_type": "code",
   "execution_count": null,
   "id": "19684dd8",
   "metadata": {},
   "outputs": [],
   "source": [""]
  }
 ],
 "metadata": {
  "kernelspec": {
   "display_name": "Python 3 (ipykernel)",
   "language": "python",
   "name": "python3"
  },
  "language_info": {
   "codemirror_mode": {
    "name": "ipython",
    "version": 3
   },
   "file_extension": ".py",
   "mimetype": "text/x-python",
   "name": "python",
   "nbconvert_exporter": "python",
   "pygments_lexer": "ipython3",
   "version": "3.9.7"
  }
 },
 "nbformat": 4,
 "nbformat_minor": 5
}
